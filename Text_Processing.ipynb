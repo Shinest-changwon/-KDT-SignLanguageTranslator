{
 "cells": [
  {
   "cell_type": "markdown",
   "id": "extraordinary-grove",
   "metadata": {},
   "source": [
    "# 목표  "
   ]
  },
  {
   "cell_type": "markdown",
   "id": "characteristic-committee",
   "metadata": {},
   "source": [
    "참고 : http://www.causw.com/capstone/86\n",
    "+ 어머니로부터 온 편지 => 어머니 + 오다 + 편지\n",
    "+ 선생님께서 나에게 청소를 시키셨다. => 선생님 + 나 + 청소 + 시키다"
   ]
  },
  {
   "cell_type": "markdown",
   "id": "usual-contrast",
   "metadata": {},
   "source": [
    "경기대 너수보 시연 동영상 : https://youtu.be/IV5g_Y7k_tA    \n",
    "설명 : https://alphanewbie.github.io/ChanWoo%20Lee%20b26f971f564648f6852c93875ca74d70/Untitled%20df0fd287747949cb9480bb94be6c7109.html  \n",
    "\n",
    "현재 아이디어 : 문장 -> 품사 검사 -> 명사, 동사만 살리기(순서는 안바뀜)"
   ]
  },
  {
   "cell_type": "markdown",
   "id": "uniform-radius",
   "metadata": {},
   "source": [
    "형태소 분석 API : https://aiopen.etri.re.kr/guide_wiseNLU.php"
   ]
  },
  {
   "cell_type": "markdown",
   "id": "contemporary-herald",
   "metadata": {},
   "source": [
    "#  KoNLPy로 형태소 분석\n",
    "https://konlpy-ko.readthedocs.io/ko/v0.4.3/api/konlpy.tag/  \n"
   ]
  },
  {
   "cell_type": "code",
   "execution_count": 6,
   "id": "visible-right",
   "metadata": {
    "ExecuteTime": {
     "end_time": "2021-07-01T08:06:30.298841Z",
     "start_time": "2021-07-01T08:06:29.995557Z"
    }
   },
   "outputs": [
    {
     "name": "stdout",
     "output_type": "stream",
     "text": [
      "[('웃', 'P'), ('으면', 'E'), ('더', 'M'), ('행복', 'N'), ('하', 'X'), ('ㅂ니다', 'E'), ('!', 'S')]\n",
      "['어머니', '편지']\n",
      "['선생님', '나', '청소']\n"
     ]
    }
   ],
   "source": [
    "# Hannanum\n",
    "from konlpy.tag import Hannanum \n",
    "\n",
    "hannanum  =  Hannanum() \n",
    "print(hannanum.pos(u'웃으면 더 행복합니다!')) \n",
    "print(hannanum.nouns(u'어머니로부터 온 편지'))\n",
    "print(hannanum.nouns(u'선생님께서 나에게 청소를 시키셨다.'))"
   ]
  },
  {
   "cell_type": "code",
   "execution_count": 1,
   "id": "inside-optics",
   "metadata": {
    "ExecuteTime": {
     "end_time": "2021-07-05T02:57:41.505347Z",
     "start_time": "2021-07-05T02:57:41.368479Z"
    }
   },
   "outputs": [
    {
     "name": "stdout",
     "output_type": "stream",
     "text": [
      "[]\n",
      "[('건너', 'VV'), ('서', 'EC'), ('타', 'VV'), ('면', 'EC'), ('됩니다', 'VV+EF'), ('.', 'SF')]\n"
     ]
    }
   ],
   "source": [
    "# Mecab()\n",
    "from konlpy.tag import Mecab\n",
    "\n",
    "macab = Mecab()\n",
    "print(macab.nouns(u'건너서 타면 됩니다.'))\n",
    "print(macab.pos(u'건너서 타면 됩니다.'))"
   ]
  },
  {
   "cell_type": "markdown",
   "id": "unusual-shape",
   "metadata": {},
   "source": [
    "명사가 없는 문장 때문에 nouns() 을 쓰지 않는게 좋겠다.  \n",
    "pos()를 찍어서 명사(NNG) 와 동사(VV)를 뽑아내면 좋겠다.  \n"
   ]
  },
  {
   "cell_type": "code",
   "execution_count": 11,
   "id": "caring-singer",
   "metadata": {
    "ExecuteTime": {
     "end_time": "2021-07-01T08:16:12.720010Z",
     "start_time": "2021-07-01T08:16:12.712554Z"
    }
   },
   "outputs": [
    {
     "name": "stdout",
     "output_type": "stream",
     "text": [
      "['건너', '타']\n"
     ]
    }
   ],
   "source": [
    "from konlpy.tag import Mecab\n",
    "\n",
    "mecab = Mecab()\n",
    "\n",
    "stnc = '건너서 타면 됩니다.'\n",
    "\n",
    "stnc_pos = mecab.pos(stnc)\n",
    "\n",
    "nouns = [n for n, tag in stnc_pos if tag in [\"NNG\",\"NNP\",\"VV\"] ]\n",
    "print(nouns)"
   ]
  },
  {
   "cell_type": "markdown",
   "id": "useful-identity",
   "metadata": {},
   "source": [
    "\"NNG\",\"NNP\",\"VV\"만 뽑아서 기본형으로 바꾸고 해당 비디오와 출력"
   ]
  },
  {
   "cell_type": "code",
   "execution_count": 4,
   "id": "driven-rugby",
   "metadata": {
    "ExecuteTime": {
     "end_time": "2021-07-07T06:41:41.282407Z",
     "start_time": "2021-07-07T06:41:41.268261Z"
    }
   },
   "outputs": [
    {
     "name": "stdout",
     "output_type": "stream",
     "text": [
      "['시청', '역', '방향', '타']\n"
     ]
    }
   ],
   "source": [
    "from konlpy.tag import Mecab\n",
    "\n",
    "mecab = Mecab()\n",
    "stnc = '시청역 갈려면 어느 방향 타야 돼요?'\n",
    "\n",
    "stnc_pos = mecab.pos(stnc)\n",
    "\n",
    "nouns = [n for n, tag in stnc_pos if tag in [\"SN\",\"NNG\",\"NNP\",\"NP\",\"VV\"] ]\n",
    "print(nouns)"
   ]
  },
  {
   "cell_type": "code",
   "execution_count": 5,
   "id": "monthly-damage",
   "metadata": {
    "ExecuteTime": {
     "end_time": "2021-07-07T08:24:50.024672Z",
     "start_time": "2021-07-07T08:24:49.998053Z"
    }
   },
   "outputs": [
    {
     "name": "stdout",
     "output_type": "stream",
     "text": [
      "['위쪽', '가', '타']\n"
     ]
    }
   ],
   "source": [
    "from konlpy.tag import Mecab\n",
    "\n",
    "mecab = Mecab()\n",
    "stnc = '위쪽으로 가는 거 타시면 돼요.'\n",
    "\n",
    "stnc_pos = mecab.pos(stnc)\n",
    "\n",
    "nouns = [n for n, tag in stnc_pos if tag in [\"SN\",\"NNG\",\"NNP\",\"NP\",\"VV\"] ]\n",
    "print(nouns)"
   ]
  },
  {
   "cell_type": "markdown",
   "id": "elect-cycle",
   "metadata": {},
   "source": [
    "# 문장 형태소 분석"
   ]
  },
  {
   "cell_type": "code",
   "execution_count": 6,
   "id": "excess-macedonia",
   "metadata": {
    "ExecuteTime": {
     "end_time": "2021-07-07T13:24:09.444230Z",
     "start_time": "2021-07-07T13:24:09.412043Z"
    }
   },
   "outputs": [
    {
     "name": "stdout",
     "output_type": "stream",
     "text": [
      "[['용산역', '방향', '타'], ['위쪽', '가', '타'], ['분실물', '센터', '안내', '있'], ['저', '어디', '모르'], ['엘리베이터', '찾'], ['저'], ['은행', '출구', '아'], ['1', '출구']]\n"
     ]
    }
   ],
   "source": [
    "sen_list = ['용산역 갈려면 어느 방향 타야 돼요?', '위쪽으로 가는 거 타시면 돼요.', '분실물 센터까지 안내해줄 수 있을까요?', '죄송한데 저도 어디 있는지 모르겠어요.', '엘리베이터를 못찾겠어요.', '저를 따라 오세요', '혹시 하나은행이 몇 번 출구인지 아시나요?', '1 번 출구에요']\n",
    "\n",
    "from konlpy.tag import Mecab\n",
    "mecab = Mecab()\n",
    "\n",
    "stnc_pos = []\n",
    "for i in range(len(sen_list)):\n",
    "    pos = mecab.pos(sen_list[i])\n",
    "    words = [n for n, tag in pos if tag in [\"SN\",\"NNG\",\"NNP\",\"NP\",\"VV\"]]\n",
    "    stnc_pos.append(words)\n",
    "    \n",
    "print(stnc_pos)"
   ]
  },
  {
   "cell_type": "code",
   "execution_count": null,
   "id": "expired-blade",
   "metadata": {},
   "outputs": [],
   "source": []
  }
 ],
 "metadata": {
  "hide_input": false,
  "kernelspec": {
   "display_name": "Python 3",
   "language": "python",
   "name": "python3"
  },
  "language_info": {
   "codemirror_mode": {
    "name": "ipython",
    "version": 3
   },
   "file_extension": ".py",
   "mimetype": "text/x-python",
   "name": "python",
   "nbconvert_exporter": "python",
   "pygments_lexer": "ipython3",
   "version": "3.7.9"
  },
  "toc": {
   "base_numbering": 1,
   "nav_menu": {},
   "number_sections": true,
   "sideBar": true,
   "skip_h1_title": false,
   "title_cell": "Table of Contents",
   "title_sidebar": "Contents",
   "toc_cell": false,
   "toc_position": {},
   "toc_section_display": true,
   "toc_window_display": false
  },
  "varInspector": {
   "cols": {
    "lenName": 16,
    "lenType": 16,
    "lenVar": 40
   },
   "kernels_config": {
    "python": {
     "delete_cmd_postfix": "",
     "delete_cmd_prefix": "del ",
     "library": "var_list.py",
     "varRefreshCmd": "print(var_dic_list())"
    },
    "r": {
     "delete_cmd_postfix": ") ",
     "delete_cmd_prefix": "rm(",
     "library": "var_list.r",
     "varRefreshCmd": "cat(var_dic_list()) "
    }
   },
   "types_to_exclude": [
    "module",
    "function",
    "builtin_function_or_method",
    "instance",
    "_Feature"
   ],
   "window_display": false
  }
 },
 "nbformat": 4,
 "nbformat_minor": 5
}
