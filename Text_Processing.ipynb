{
 "cells": [
  {
   "cell_type": "markdown",
   "id": "extraordinary-grove",
   "metadata": {},
   "source": [
    "# 목표  "
   ]
  },
  {
   "cell_type": "markdown",
   "id": "characteristic-committee",
   "metadata": {},
   "source": [
    "참고 : http://www.causw.com/capstone/86\n",
    "+ 어머니로부터 온 편지 => 어머니 + 오다 + 편지\n",
    "+ 선생님께서 나에게 청소를 시키셨다. => 선생님 + 나 + 청소 + 시키다"
   ]
  },
  {
   "cell_type": "markdown",
   "id": "usual-contrast",
   "metadata": {},
   "source": [
    "경기대 너수보 시연 동영상 : https://youtu.be/IV5g_Y7k_tA    \n",
    "설명 : https://alphanewbie.github.io/ChanWoo%20Lee%20b26f971f564648f6852c93875ca74d70/Untitled%20df0fd287747949cb9480bb94be6c7109.html  \n",
    "\n",
    "현재 아이디어 : 문장 -> 품사 검사 -> 명사, 동사만 살리기(순서는 안바뀜)"
   ]
  },
  {
   "cell_type": "markdown",
   "id": "uniform-radius",
   "metadata": {},
   "source": [
    "형태소 분석 API : https://aiopen.etri.re.kr/guide_wiseNLU.php"
   ]
  },
  {
   "cell_type": "markdown",
   "id": "contemporary-herald",
   "metadata": {},
   "source": [
    "#  KoNLPy로 형태소 분석\n",
    "https://konlpy-ko.readthedocs.io/ko/v0.4.3/api/konlpy.tag/  \n"
   ]
  },
  {
   "cell_type": "code",
   "execution_count": 6,
   "id": "visible-right",
   "metadata": {
    "ExecuteTime": {
     "end_time": "2021-07-01T08:06:30.298841Z",
     "start_time": "2021-07-01T08:06:29.995557Z"
    }
   },
   "outputs": [
    {
     "name": "stdout",
     "output_type": "stream",
     "text": [
      "[('웃', 'P'), ('으면', 'E'), ('더', 'M'), ('행복', 'N'), ('하', 'X'), ('ㅂ니다', 'E'), ('!', 'S')]\n",
      "['어머니', '편지']\n",
      "['선생님', '나', '청소']\n"
     ]
    }
   ],
   "source": [
    "# Hannanum\n",
    "from konlpy.tag import Hannanum \n",
    "\n",
    "hannanum  =  Hannanum() \n",
    "print(hannanum.pos(u'웃으면 더 행복합니다!')) \n",
    "print(hannanum.nouns(u'어머니로부터 온 편지'))\n",
    "print(hannanum.nouns(u'선생님께서 나에게 청소를 시키셨다.'))"
   ]
  },
  {
   "cell_type": "code",
   "execution_count": 1,
   "id": "inside-optics",
   "metadata": {
    "ExecuteTime": {
     "end_time": "2021-07-05T02:57:41.505347Z",
     "start_time": "2021-07-05T02:57:41.368479Z"
    }
   },
   "outputs": [
    {
     "name": "stdout",
     "output_type": "stream",
     "text": [
      "[]\n",
      "[('건너', 'VV'), ('서', 'EC'), ('타', 'VV'), ('면', 'EC'), ('됩니다', 'VV+EF'), ('.', 'SF')]\n"
     ]
    }
   ],
   "source": [
    "# Mecab()\n",
    "from konlpy.tag import Mecab\n",
    "\n",
    "macab = Mecab()\n",
    "print(macab.nouns(u'건너서 타면 됩니다.'))\n",
    "print(macab.pos(u'건너서 타면 됩니다.'))"
   ]
  },
  {
   "cell_type": "markdown",
   "id": "unusual-shape",
   "metadata": {},
   "source": [
    "명사가 없는 문장 때문에 nouns() 을 쓰지 않는게 좋겠다.  \n",
    "pos()를 찍어서 명사(NNG) 와 동사(VV)를 뽑아내면 좋겠다.  \n"
   ]
  },
  {
   "cell_type": "code",
   "execution_count": 11,
   "id": "caring-singer",
   "metadata": {
    "ExecuteTime": {
     "end_time": "2021-07-01T08:16:12.720010Z",
     "start_time": "2021-07-01T08:16:12.712554Z"
    }
   },
   "outputs": [
    {
     "name": "stdout",
     "output_type": "stream",
     "text": [
      "['건너', '타']\n"
     ]
    }
   ],
   "source": [
    "from konlpy.tag import Mecab\n",
    "\n",
    "mecab = Mecab()\n",
    "\n",
    "stnc = '건너서 타면 됩니다.'\n",
    "\n",
    "stnc_pos = mecab.pos(stnc)\n",
    "\n",
    "nouns = [n for n, tag in stnc_pos if tag in [\"NNG\",\"NNP\",\"VV\"] ]\n",
    "print(nouns)"
   ]
  },
  {
   "cell_type": "markdown",
   "id": "useful-identity",
   "metadata": {},
   "source": [
    "\"NNG\",\"NNP\",\"VV\"만 뽑아서 기본형으로 바꾸고 해당 비디오와 출력"
   ]
  }
 ],
 "metadata": {
  "hide_input": false,
  "kernelspec": {
   "display_name": "Python 3",
   "language": "python",
   "name": "python3"
  },
  "language_info": {
   "codemirror_mode": {
    "name": "ipython",
    "version": 3
   },
   "file_extension": ".py",
   "mimetype": "text/x-python",
   "name": "python",
   "nbconvert_exporter": "python",
   "pygments_lexer": "ipython3",
   "version": "3.7.9"
  },
  "toc": {
   "base_numbering": 1,
   "nav_menu": {},
   "number_sections": true,
   "sideBar": true,
   "skip_h1_title": false,
   "title_cell": "Table of Contents",
   "title_sidebar": "Contents",
   "toc_cell": false,
   "toc_position": {},
   "toc_section_display": true,
   "toc_window_display": false
  },
  "varInspector": {
   "cols": {
    "lenName": 16,
    "lenType": 16,
    "lenVar": 40
   },
   "kernels_config": {
    "python": {
     "delete_cmd_postfix": "",
     "delete_cmd_prefix": "del ",
     "library": "var_list.py",
     "varRefreshCmd": "print(var_dic_list())"
    },
    "r": {
     "delete_cmd_postfix": ") ",
     "delete_cmd_prefix": "rm(",
     "library": "var_list.r",
     "varRefreshCmd": "cat(var_dic_list()) "
    }
   },
   "types_to_exclude": [
    "module",
    "function",
    "builtin_function_or_method",
    "instance",
    "_Feature"
   ],
   "window_display": false
  }
 },
 "nbformat": 4,
 "nbformat_minor": 5
}
