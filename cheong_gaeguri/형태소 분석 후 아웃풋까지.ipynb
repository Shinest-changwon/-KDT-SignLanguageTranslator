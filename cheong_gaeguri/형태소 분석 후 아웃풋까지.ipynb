{
 "cells": [
  {
   "cell_type": "markdown",
   "id": "union-clone",
   "metadata": {},
   "source": [
    "CSV 파일을 pd로 읽음"
   ]
  },
  {
   "cell_type": "code",
   "execution_count": 1,
   "id": "close-receptor",
   "metadata": {
    "ExecuteTime": {
     "end_time": "2021-07-12T09:03:19.983569Z",
     "start_time": "2021-07-12T09:03:19.790638Z"
    }
   },
   "outputs": [
    {
     "data": {
      "text/html": [
       "<div>\n",
       "<style scoped>\n",
       "    .dataframe tbody tr th:only-of-type {\n",
       "        vertical-align: middle;\n",
       "    }\n",
       "\n",
       "    .dataframe tbody tr th {\n",
       "        vertical-align: top;\n",
       "    }\n",
       "\n",
       "    .dataframe thead th {\n",
       "        text-align: right;\n",
       "    }\n",
       "</style>\n",
       "<table border=\"1\" class=\"dataframe\">\n",
       "  <thead>\n",
       "    <tr style=\"text-align: right;\">\n",
       "      <th></th>\n",
       "      <th>who</th>\n",
       "      <th>talk</th>\n",
       "      <th>division</th>\n",
       "      <th>num</th>\n",
       "    </tr>\n",
       "    <tr>\n",
       "      <th>index</th>\n",
       "      <th></th>\n",
       "      <th></th>\n",
       "      <th></th>\n",
       "      <th></th>\n",
       "    </tr>\n",
       "  </thead>\n",
       "  <tbody>\n",
       "    <tr>\n",
       "      <th>1</th>\n",
       "      <td>청인</td>\n",
       "      <td>내</td>\n",
       "      <td>word</td>\n",
       "      <td>1157</td>\n",
       "    </tr>\n",
       "    <tr>\n",
       "      <th>2</th>\n",
       "      <td>청인</td>\n",
       "      <td>데려다</td>\n",
       "      <td>word</td>\n",
       "      <td>3001</td>\n",
       "    </tr>\n",
       "    <tr>\n",
       "      <th>3</th>\n",
       "      <td>청인</td>\n",
       "      <td>마을버스</td>\n",
       "      <td>word</td>\n",
       "      <td>148</td>\n",
       "    </tr>\n",
       "    <tr>\n",
       "      <th>4</th>\n",
       "      <td>청인</td>\n",
       "      <td>일</td>\n",
       "      <td>word</td>\n",
       "      <td>2632</td>\n",
       "    </tr>\n",
       "    <tr>\n",
       "      <th>5</th>\n",
       "      <td>청인</td>\n",
       "      <td>어디</td>\n",
       "      <td>sen</td>\n",
       "      <td>338</td>\n",
       "    </tr>\n",
       "  </tbody>\n",
       "</table>\n",
       "</div>"
      ],
      "text/plain": [
       "      who  talk division   num\n",
       "index                         \n",
       "1      청인     내     word  1157\n",
       "2      청인   데려다     word  3001\n",
       "3      청인  마을버스     word   148\n",
       "4      청인     일     word  2632\n",
       "5      청인    어디      sen   338"
      ]
     },
     "execution_count": 1,
     "metadata": {},
     "output_type": "execute_result"
    }
   ],
   "source": [
    "import pandas as pd\n",
    "\n",
    "demo_sen = pd.read_csv('./demo_sen.csv', index_col = 'index')\n",
    "demo_sen"
   ]
  },
  {
   "cell_type": "code",
   "execution_count": 2,
   "id": "seeing-arena",
   "metadata": {
    "ExecuteTime": {
     "end_time": "2021-07-12T09:03:20.062045Z",
     "start_time": "2021-07-12T09:03:19.985072Z"
    }
   },
   "outputs": [
    {
     "name": "stdout",
     "output_type": "stream",
     "text": [
      "[[('내', 'NP'), ('가', 'JKS'), ('데려다', 'VV+EC'), ('줄', 'VX+ETM'), ('게요', 'NNB+VCP+EC')], [('마을버스', 'NNG'), ('일', 'NR'), ('번', 'NNBC'), ('이요', 'JX')], [('어디', 'NP'), ('에서', 'JKB'), ('요', 'JX'), ('?', 'SF')]]\n"
     ]
    }
   ],
   "source": [
    "sen_list = ['내가 데려다 줄게요', '마을버스 일번이요','어디에서요?']\n",
    "\n",
    "from konlpy.tag import Mecab\n",
    "mecab = Mecab()\n",
    "\n",
    "stnc_pos = []\n",
    "for i in range(len(sen_list)):\n",
    "    pos = mecab.pos(sen_list[i])\n",
    "    stnc_pos.append(pos)\n",
    "\n",
    "print(stnc_pos)"
   ]
  },
  {
   "cell_type": "code",
   "execution_count": 3,
   "id": "abroad-theorem",
   "metadata": {
    "ExecuteTime": {
     "end_time": "2021-07-12T09:03:20.069055Z",
     "start_time": "2021-07-12T09:03:20.063841Z"
    }
   },
   "outputs": [
    {
     "name": "stdout",
     "output_type": "stream",
     "text": [
      "[['내', '데려다'], ['마을버스', '일'], ['어디']]\n"
     ]
    }
   ],
   "source": [
    "sen_list = ['내가 데려다 줄게요', '마을버스 일번이요','어디에서요?']\n",
    "\n",
    "from konlpy.tag import Mecab\n",
    "mecab = Mecab()\n",
    "\n",
    "stnc_pos = []\n",
    "for i in range(len(sen_list)):\n",
    "    pos = mecab.pos(sen_list[i])\n",
    "    words = [n for n, tag in pos if tag in [\"NR\",\"SN\",\"NNG\",\"NNP\",\"NP\",\"VV\",\"VV+EC\",\"MM\"]]\n",
    "    stnc_pos.append(words)\n",
    "print(stnc_pos)"
   ]
  },
  {
   "cell_type": "markdown",
   "id": "resident-oklahoma",
   "metadata": {},
   "source": [
    "위의 아웃풋으로 csv에서 division과 num찾아서 출력해야된다."
   ]
  },
  {
   "cell_type": "code",
   "execution_count": 4,
   "id": "universal-budget",
   "metadata": {
    "ExecuteTime": {
     "end_time": "2021-07-12T09:03:20.073624Z",
     "start_time": "2021-07-12T09:03:20.070525Z"
    }
   },
   "outputs": [
    {
     "data": {
      "text/plain": [
       "'데려다'"
      ]
     },
     "execution_count": 4,
     "metadata": {},
     "output_type": "execute_result"
    }
   ],
   "source": [
    "stnc_pos[0][1]"
   ]
  },
  {
   "cell_type": "code",
   "execution_count": 5,
   "id": "emerging-duncan",
   "metadata": {
    "ExecuteTime": {
     "end_time": "2021-07-12T09:03:20.082146Z",
     "start_time": "2021-07-12T09:03:20.074972Z"
    },
    "scrolled": false
   },
   "outputs": [
    {
     "data": {
      "text/html": [
       "<div>\n",
       "<style scoped>\n",
       "    .dataframe tbody tr th:only-of-type {\n",
       "        vertical-align: middle;\n",
       "    }\n",
       "\n",
       "    .dataframe tbody tr th {\n",
       "        vertical-align: top;\n",
       "    }\n",
       "\n",
       "    .dataframe thead th {\n",
       "        text-align: right;\n",
       "    }\n",
       "</style>\n",
       "<table border=\"1\" class=\"dataframe\">\n",
       "  <thead>\n",
       "    <tr style=\"text-align: right;\">\n",
       "      <th></th>\n",
       "      <th>who</th>\n",
       "      <th>talk</th>\n",
       "      <th>division</th>\n",
       "      <th>num</th>\n",
       "    </tr>\n",
       "    <tr>\n",
       "      <th>index</th>\n",
       "      <th></th>\n",
       "      <th></th>\n",
       "      <th></th>\n",
       "      <th></th>\n",
       "    </tr>\n",
       "  </thead>\n",
       "  <tbody>\n",
       "    <tr>\n",
       "      <th>1</th>\n",
       "      <td>청인</td>\n",
       "      <td>내</td>\n",
       "      <td>word</td>\n",
       "      <td>1157</td>\n",
       "    </tr>\n",
       "  </tbody>\n",
       "</table>\n",
       "</div>"
      ],
      "text/plain": [
       "      who talk division   num\n",
       "index                        \n",
       "1      청인    내     word  1157"
      ]
     },
     "execution_count": 5,
     "metadata": {},
     "output_type": "execute_result"
    }
   ],
   "source": [
    "demo_sen[demo_sen['talk']=='내']"
   ]
  },
  {
   "cell_type": "code",
   "execution_count": 6,
   "id": "respective-confusion",
   "metadata": {
    "ExecuteTime": {
     "end_time": "2021-07-12T09:03:20.087130Z",
     "start_time": "2021-07-12T09:03:20.083421Z"
    },
    "scrolled": true
   },
   "outputs": [
    {
     "data": {
      "text/plain": [
       "'word'"
      ]
     },
     "execution_count": 6,
     "metadata": {},
     "output_type": "execute_result"
    }
   ],
   "source": [
    "demo_sen[demo_sen['talk']=='내'].iloc[0, 2]"
   ]
  },
  {
   "cell_type": "code",
   "execution_count": 7,
   "id": "greek-genome",
   "metadata": {
    "ExecuteTime": {
     "end_time": "2021-07-12T09:03:20.092331Z",
     "start_time": "2021-07-12T09:03:20.088517Z"
    },
    "scrolled": true
   },
   "outputs": [
    {
     "data": {
      "text/plain": [
       "1157"
      ]
     },
     "execution_count": 7,
     "metadata": {},
     "output_type": "execute_result"
    }
   ],
   "source": [
    "int(demo_sen[demo_sen['talk']=='내']['num'])"
   ]
  },
  {
   "cell_type": "code",
   "execution_count": 9,
   "id": "light-bathroom",
   "metadata": {
    "ExecuteTime": {
     "end_time": "2021-07-12T09:03:34.804329Z",
     "start_time": "2021-07-12T09:03:34.792514Z"
    }
   },
   "outputs": [
    {
     "name": "stdout",
     "output_type": "stream",
     "text": [
      "[1157, 3001, 148, 2632, 338]\n",
      "['word', 'word', 'word', 'word', 'sen']\n"
     ]
    }
   ],
   "source": [
    "num_list = []\n",
    "div_list = []\n",
    "for i in range(len(stnc_pos)):\n",
    "    for j in range(len(stnc_pos[i])):\n",
    "        a = int(demo_sen[demo_sen['talk']==stnc_pos[i][j]]['num'])\n",
    "        num_list.append(a)\n",
    "        b = demo_sen[demo_sen['talk']==stnc_pos[i][j]].iloc[0,2]\n",
    "        div_list.append(b)\n",
    "        \n",
    "print(num_list)\n",
    "print(div_list)"
   ]
  }
 ],
 "metadata": {
  "hide_input": false,
  "kernelspec": {
   "display_name": "Python 3",
   "language": "python",
   "name": "python3"
  },
  "language_info": {
   "codemirror_mode": {
    "name": "ipython",
    "version": 3
   },
   "file_extension": ".py",
   "mimetype": "text/x-python",
   "name": "python",
   "nbconvert_exporter": "python",
   "pygments_lexer": "ipython3",
   "version": "3.7.9"
  },
  "toc": {
   "base_numbering": 1,
   "nav_menu": {},
   "number_sections": true,
   "sideBar": true,
   "skip_h1_title": false,
   "title_cell": "Table of Contents",
   "title_sidebar": "Contents",
   "toc_cell": false,
   "toc_position": {},
   "toc_section_display": true,
   "toc_window_display": false
  },
  "varInspector": {
   "cols": {
    "lenName": 16,
    "lenType": 16,
    "lenVar": 40
   },
   "kernels_config": {
    "python": {
     "delete_cmd_postfix": "",
     "delete_cmd_prefix": "del ",
     "library": "var_list.py",
     "varRefreshCmd": "print(var_dic_list())"
    },
    "r": {
     "delete_cmd_postfix": ") ",
     "delete_cmd_prefix": "rm(",
     "library": "var_list.r",
     "varRefreshCmd": "cat(var_dic_list()) "
    }
   },
   "types_to_exclude": [
    "module",
    "function",
    "builtin_function_or_method",
    "instance",
    "_Feature"
   ],
   "window_display": false
  }
 },
 "nbformat": 4,
 "nbformat_minor": 5
}
